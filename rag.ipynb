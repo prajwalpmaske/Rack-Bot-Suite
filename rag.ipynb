{
 "cells": [
  {
   "cell_type": "code",
   "execution_count": 108,
   "metadata": {},
   "outputs": [],
   "source": [
    "\n",
    "# Install all these libraries using pip command\n",
    "# Here I made your work easy (use 'pip3' if on pip3 version): \n",
    "# pip install PyPDF2 langchain python-dotenv pandas chromadb google-api-python-client tqdm\n",
    "\n",
    "import PyPDF2\n",
    "import langchain\n",
    "import os\n",
    "from dotenv import load_dotenv\n",
    "from pprint import pprint\n",
    "import pandas as pd\n",
    "import chromadb\n",
    "from chromadb import Documents, EmbeddingFunction, Embeddings\n",
    "import google.generativeai as genai\n",
    "from IPython.display import Markdown\n",
    "from chromadb.api.types import Embeddings\n",
    "import time\n",
    "from tqdm import tqdm\n",
    "from google.generativeai import GenerationConfig, GenerativeModel"
   ]
  },
  {
   "cell_type": "code",
   "execution_count": 110,
   "metadata": {},
   "outputs": [],
   "source": [
    "api_key = \" Enter your key here, which you could get on GoogleAPI key for gemini \"  # Change it with your API key\n",
    "genai.configure(api_key=api_key)"
   ]
  },
  {
   "cell_type": "code",
   "execution_count": 331,
   "metadata": {},
   "outputs": [
    {
     "name": "stdout",
     "output_type": "stream",
     "text": [
      "SOCIAL NETWORK ANALYSISModule 2 : Social Network Structure , Measures & Visualization Faculty Name :Mrs Snehal PatilLecture 1 Basics of Social network StructureØBasics of Social network StructureØNetwork VisualizationØNetwork FeaturesØScale IssuesØSocial Media Network AnalyticsØCommon  Network termsØCommon Social Media Network typesModule 2 Contents\n",
      "Module 2–Social Network Structure , Measures &Visualization3ØText Books:ØSeven Layers of Social Media Analytics_ Mining Business Insights from Social Media Text, Actions, Networks, Hyperlinks, Apps, Search Engine, and Location Data, Gohar F. Khan,(ISBN-10: 1507823207). ØAnalyzing the Social Web 1st Edition by Jennifer Golbeck ØMining the Social Web_ Analyzing Data from Facebook, Twitter, LinkedIn, and Other Social Media Sites, Matthew A Russell, O’Reilly ØReference Books:Ø Social Media Analytics [2015], Techniques and Insights for Extracting Business Value Out of Social Media, Matthew Ganis, AvinashKohirkar, IBM Press 74 ØSocial Media Analytics Strategy_ Using Data to Optimize Business Performance, Alex Gonçalves, APress Business Team ØSocial Media Data Mining and Analytics, Szabo, G., G. Polatkan, O. Boykin & A. Chalkiopoulus (2019), Wiley, ISBN 978-1-118-82485-6 Reference Book\n",
      "Module 2–Social Network Structure , Measures &Visualization4Basics of Social network Structure\n",
      "Module 2–Social Network Structure , Measures &Visualization5ØNetwork Analysis is a method for finding patterns under the structure of the network. ØIt relies on graph theory. ØThe network consists of nodes that represent individuals, people, or things, and edges represent the connection or relationship between nodes. ØSocial Network Analysis (SNA) is interested in relationships among social entities such as individuals or organizations.\n",
      "https://towardsdatascience.com/social-network-analysis-from-theory-to-applications-with-python-d12e9a34c2c7Basics of Social network Structure\n",
      "Module 2–Social Network Structure,Measures &Visualization6ØNodes(Actors) and edges(Relation Tie) have different meanings in different networks. ØFor example, for a bank, the nodes represent bank accounts, while the edges represent the transaction between these accounts. ØFor social media applications such as Facebook and Twitter, nodes represent individuals, while edges represent there is a connection between these people.ØNodes and edges create a graph together and edges may have direction.       If the way of the relationship between nodes is insignificant then edges have no  direction and the graph becomes undirected.ØIn the social media application example, if the edge exists between two nodes (or in other words two people), it means that they are both friends of each other.Basics of Social network Structure\n",
      "Module 2–Social Network Structure , Measures &Visualization7ØTherefore this relationship is undirected.Ø In the bank example, the relationship is directed because transaction happens from one account to another. ØTherefore, we design our network with directed graphs.\n",
      "Basics of Social network Structure\n",
      "Module 2–Social Network Structure , Measures &Visualization8•Directed GraphsØEdges are usually represented by arrows pointing in the direction the graph can be traversed.ØIn the example on the right, the graph can be traversed from vertexAtoB, but not from vertexBtoA.•Undirected GraphsØIn anundirected graphthe edges are bidirectional, with no direction associated with them. Hence, the graph can be traversed in either direction. The absence of an arrow tells us that the graph is undirected.ØIn the example on the left, the graph can be traversed from nodeAtoBas well as from nodeBtoA.\n",
      "Basics of Social network Structure\n",
      "Module 2–Social Network Structure , Measures &Visualization9Some more complex directed and undirected graphs might look like the following:\n",
      "Basics of Social network Structure\n",
      "Module 2–Social Network Structure , Measures &Visualization10•Edge DirectionØThere are two types of edges: directed and undirected. ØIt will be necessary to decipher what type of edge your data contains when building a network graph.ØDirected edges are applied from one node to another with a starting node and an ending node.ØFor example, when a twitter user tags another twitter user in a tweet, that relationship is directed. ØThe user who wrote the tweet (starting node) applied that relationship to the user who they tagged (ending node). ØThe tagged user has not necessarily reciprocated that relationship. Ø Another example of a directed edge are payments. ØIf a customer (starting node) pays a coffee shop (ending node) for a coffee, that relationship is not necessarily reciprocated because the coffee shop has not also paid the customer.\n",
      "Basics of Social network Structure\n",
      "Module 2–Social Network Structure , Measures &Visualization11•Edge WeightØAn Edge’s weight is the number of times that edge appears between two specific nodes.Ø In many applications, each edge of a graph has an associated numerical value, called a weight.ØUsually, the edge weights are non- negative integers. ØWeighted graphs may be either directed or undirected. The weight of an edge is often referred to as the \"cost\" of the edge.ØFor example, if Person A buys a coffee from a coffee shop 3 times, the edge connecting Person A and the coffee shop will have a weight of 3. ØHowever, if Person B only buys coffee from the coffee shop once, the edge connecting Person B and the coffee shop will have a weight of 1.\n",
      "Basics of Social network Structure\n",
      "Module 2–Social Network Structure , Measures &Visualization12ØHowever, in a directed network, there are actually three different degree measures. ØBecause these edges have a starting and end node, the in-degree (number of edges the node is an end node of), out-degree(number of edges a node is a starting node of), and degree (number of edges a node is either a starting node or end node of) can be calculated.\n",
      "Basics of Social network Structure\n",
      "Module 2–Social Network Structure , Measures &Visualization13•Centrality MeasuresØCentrality is one of the core principles of network analysis. It measures how “central” a node is in the network. This is used as an estimate of its importance in the network.ØCentrality is a collection of metrics used to quantify how important and influential a specific node is to the network as a whole. ØIt is important to remember that centrality measures are used on specific nodes within the network, and do not provide information on a network level. ØCorrespondingly, there are a number of ways to measure centrality of a node. In this chapter, four types of centrality are considered: Ødegree centrality, Øcloseness centrality, Øbetweenness centrality, and Øeigenvector centralityBasics of Social network Structure\n",
      "Module 2–Social Network Structure , Measures &Visualization14\n",
      "Basics of Social network Structure\n",
      "Module 2–Social Network Structure , Measures &Visualization15•Degree CentralityØA node’s degree is the number of edges the node has. ØIn an undirected network, there is only one measure for degree.Ø For example, if node A has edges connecting it to Node B and Node D, then node A’s degree is 2.ØIn Figure node P has the highest degree centrality of 9. ØMeanwhile, node F has a relatively low degree centrality of 5. Many other nodes have that same centrality value or higher (e.g., node D has a degree centrality of 5)ØDegree centrality is a good measure of the total connections a node has, but will not necessarily indicate the importance of a node in connecting others or how central it is to the main group.ØDegree centrality is a good measure of the total connections a node has, but will not necessarily indicate the importance of a node in connecting others \n",
      "Basics of Social network Structure\n",
      "Module 2–Social Network Structure , Measures &Visualization16•ClosenessØCloseness measures how well connected a node is to every other node in the network. ØA node’s closeness is the average number of hops required to reach every other node in the network. ØA hop is the path of an edge from one node to another ØFor example, as seen in the diagram below, Node A is connected to Node B, and Node B is connected to Node C. ØFor Node A to reach Node C it would take two hops.ØCloseness centrality indicates how close a node is to all other nodes in the network.Ø It is calculated as the average of the shortest path length from the node to every other node in the network\n",
      "Basics of Social network Structure\n",
      "Module 2–Social Network Structure , Measures &Visualization17ØLet’s start by computing the average shortest path length of node D. ØTable  shows each node and the length of the shortest path from D. ØThe average of those shortest path lengths is: 1:71: ØNote that we divide by 7 because there are seven other nodes. ØNow repeat this for node A. This is shown in Here, the average shortest path length is:\n",
      "Basics of Social network Structure\n",
      "Module 2–Social Network Structure , Measures &Visualization18ØIn the case of closeness centrality, or average shortest path length, lower values indicate more central nodes. ØThus, since node D’s closeness centrality is 1.71 and node A’s is 3.43, node D is more central by this measure. ØThe benefits of closeness centrality are that it indicates nodes as more central if they are closer to most of the nodes in the graph.\n",
      "Basics of Social network Structure\n",
      "Module 2–Social Network Structure , Measures &Visualization19ØBetweenness centrality measures how important a node is to the shortest paths through the network. ØTo compute betweenness for a node N, we select a pair of nodes and find all the shortest paths between those nodes.ØFor example, consider previous figureLet’s compute betweenness centrality for node B. ØThere are 10 pairs of nodes to consider: AC, AD, AE, AF, CD, CE, CF, DE, DF, and EF. Without counting, we know that 100% of the shortest paths from A to every other node in the network go through B, since A can’t reach the rest of the network without B. ØThus, the fractions for AC, AD, AE, and AF are all 1. From C to D, there are two shortest paths: one through B and one through E. ØThus, 1 ÷2 = 0.5 go through B. The same is true for the shortest path from D to C. For the remaining pairs CE, CF, DE, DF, and EF no shortest paths go through B.Ø Thus, the fraction for all of these is zero. Now we can calculate the betweenness for B:\n",
      "ØIn contrast, the betweenness centrality of A is zero, since no shortest paths between D, C, D, E, and F go through A. ØBetweenness centrality is one of the most frequently used centrality measures. It captures how important a node is in the flow of information from one part of the network to another.Basics of Social network Structure\n",
      "Module 2–Social Network Structure , Measures &Visualization20•Eigenvector centrality : measures a node’s importance while giving consideration to the importance of its neighborsØFor example, a node with 300 relatively unpopular friends on Facebook would have lower eigenvector centrality than someone with 300 very popular friends (like Barak Obama). It is sometimes used to measure a node’s influence in the network. ØIt is determined by performing a matrix calculation to determine what is called the principal eigenvector using the adjacency matrix.ØImp note:Degree— the amount of neighbors of the nodeEigenVector / PageRank— iterative circles of neighborsCloseness— the level of closeness to all of the nodesBetweenness— the amount of short path going through the nodeØhttps://towardsdatascience.com/social-network-analysis-from-theory-to-applications-with-python-d12e9a34c2c7Basics of Social network Structure\n",
      "Module 2–Social Network Structure , Measures &Visualization21•Describing networks ØA number of measures can be used to describe the structure of a network as a whole. density is one of these. ØDensity the number of edges in the graph divided by the number of possible edges is one of the most common ways of describing a network. ØHowever, other statistics provide different insights into network structure..ØTo create a degree distribution, calculate the degree for each node in the network. Table 3.3 shows the degrees for each node in the graph shown in Figure 3.1. The next step is to count how many nodes have each degree. This is totaled for each degree, including those for which there are no nodes with that count. Table 3.4 shows the node count for each degree in this network. The most common way to show a degree distribution is in a bar graph. The x-axis has the degrees in ascending order, and the Y-axis indicates how many nodes have a given-degree. For the data in Table 3.4, we would make a bar graph as shown in Figure 3.5\n",
      "Basics of Social network Structure\n",
      "Module 2–Social Network Structure , Measures &Visualization22•Network-Level MeasuresØLike centrality measures, there are a variety of network-level measures. This guide will cover size and density.•Network SizeØNetwork size is the number of nodes in the network. ØThe size of a network does not take into consideration the number of edges. ØFor example, a network with nodes A, B, and C has a size of 3.\n",
      "Basics of Social network Structure\n",
      "Module 2–Social Network Structure , Measures &Visualization23•Network DensityØNetwork density is the number of edges divided by the total possible edges. ØFor example, a network with Node A connected to Node B, and Node B connected to Node C, the network density is 2/3 because there are two edges out of a possible 3.\n",
      "Basics of Social network Structure\n",
      "Module 2–Social Network Structure , Measures &Visualization24•Path-Level MeasuresØPath-level measures provide information for a path between one node and another node. ØPaths follow edges between nodes, known as hops. There are also many different path-level measures, but this article will cover length and distance.•LengthØLength is the number of edges between the starting and ending nodes, known as hops.Ø In order to calculate the length between two nodes, a path must be predetermined.•DistanceØDistance is the number of edges or hops between the starting and ending nodes following the shortest path. ØUnlike length, the distance between two nodes uses only the shortest path — the path that requires the least hops.Basics of Social network Structure\n",
      "Module 2–Social Network Structure , Measures &Visualization25•Connected Components and BridgesØNot all nodes in a network will necessarily be connected to each other. ØA connected component is a group of nodes that are connected to each other, but not connected to another group of nodes.Ø Another way of thinking of this is a group of connected nodes that have no path to a node from another group. ØDepending on the network, there can be many connected components, or even only one. The below diagram shows a network with two connected components.\n",
      "Summary\n",
      "Module 2–Social Network Structure , Measures &Visualization26ØThesizeof the network is defined as the number of nodes or edges. ØThedensityof the network is calculated as the total number of existing edges divided by the number of all possible edges. It takes a value between 0 and 1. ØThedegreeof a node represents the number of edges connected to that node. If the edges have direction in the network, then each node hasin-degreeandout-degreevalues. ØIn-degree represents the incoming edges to the node while out-degree represents the outgoing edges from the node. ØThe probability distribution of these degrees of all nodes createsdegree distributionand social networks can be characterized by using this statistic.Basics of Social network Structure\n",
      "Module 2–Social Network Structure , Measures &Visualization27https://towardsdatascience.com/how-to-get-started-with-social-network-analysis-6d527685d374Subnetworks\n",
      "Module 2–Social Network Structure , Measures &Visualization28•Subnetwork TypesØSingletonØDyadØTriad\n",
      "Subnetworks\n",
      "Module 2–Social Network Structure , Measures &Visualization29ØBeyond nodes and edges, there are some basic structures that are important to know for describing and understanding networks.ØSo far, we have considered the entire graph or network, looking at how many nodes and edges it has and how to describe them.ØWhen we are considering a subset of the nodes and edges in a graph, it is called a subnetwork..ØSome of the simplest subnetworks are singletons. These are nodes that have no edges. While these nodes are not very “social,” they are still part of a social network.ØOften, these represent people who signed up for an account to access some part of the site other than the social networking features, or people who signed up but never actively participated.ØNode A is a singleton because it isn’t connected to any other node in the network.Subnetworks\n",
      "Module 2–Social Network Structure , Measures &Visualization30ØWhen looking at two nodes and their relationship, it is called a dyad, and a group of three nodes is called a triad.ØShows a connected dyad between B and C, and a fully connected triad between D, E, and F. ØHowever, we could consider the relationship between A and B. ØEven though they are not connected, that pair of nodes could also be called a dyad.Clique\n",
      "Module 2–Social Network Structure , Measures &Visualization31ØGroups of nodes of any size have properties that are interesting. One of particular interest is whether or not all nodes in a group are connected to one another. When this happens, it is called a clique.ØThe term is the same as the one we useto refer to, for example, a group of people who are all strongly connected and tend to talk mostly to one another .Ø(e.g., “Alice is part of a clique at school”). ØFor a graph or subgraph to be a clique, every node must be connected to every other.Clique\n",
      "Module 2–Social Network Structure , Measures &Visualization32ØIn Figure 2.6, nodes D, E, and F form a clique. However, if the edge from D to E were missing, it would not be a clique.\n",
      "Egocentric networks\n",
      "Module 2–Social Network Structure , Measures &Visualization33Ø.Ego networks models describe the social relationships of an individual (ego) with its social peers (alters).One of the most important types of subgraphs we will consider is the egocentric network. ØThis is a network we pull out by selecting a node and all of its connections.Ø In Figure 2.6, node D is connected to nodes A, E, B, C, and Q. There are edges from D to each of these nodes and edges between themØFigure 2.8(a) shows Node D and its edges to its neighbors. Because we are going one step away from D in the network, this is called a degree-1 egocentric.ØIf we want to see only D’s neighbors and their connections, it is called a 1.5-degree egocentric network, shown in Figure 2.8(b).ØEgocentric networks can extend out further. Figure 2.8(d) shows the 2-degree egocentric network. It includes all of D’s neighbors, their connections to one another, and all of their neighbors.ØEgocentric networks are used to understand nodes and their role in the net\u0000work. Egocentric networks are an important tool for network analysis throughoutEgocentric networks\n",
      "Module 2–Social Network Structure , Measures &Visualization34\n",
      "Clusters \n",
      "Module 2–Social Network Structure , Measures &Visualization35ØWe are also interested in clusters of nodes.Ø In Figure 2.6, we see a group of nodes to the lower right that have many connections between them. ØThis group is not a clique because every node is not connected to every other. ØFor example, node D is not connected to O and F. However, the group is clearly more connected to one another than the graph is as a whole or compared to other subgraphs. ØWhile there is no strict definition of a cluster like there is for a clique, we can describe prop\u0000erties of clusters using some network measures, like density,\n",
      "Shortest Path\n",
      "Module 2–Social Network Structure , Measures &Visualization36ØThere are two shortest paths from Node F to Node E: FAE and FBE.Ø Shortest paths will be an important measure we consider in network analysis and are sometimes called geodesic distances\n",
      "Connectedness\n",
      "Module 2–Social Network Structure , Measures &Visualization37ØPaths are used to determine a graph property called connectedness. ØTwo nodes in a graph are called connected if there is a path between them in the network.ØAn entire graph is called connected if all pairs of nodes are connected.ØStrongly connected graphs - every vertex is reachable from every other vertex.ØWeakly connected -  If a path cannot be found between all pairs of nodes using the direction of the edges, but paths can be found if the directed edges are treated as undirected, then the graph is called weakly connected. Bridges and hubs\n",
      "Module 2–Social Network Structure , Measures &Visualization38ØConnected Components -If a graph is not connected, it may have subgraphs that are connected. These are called connected components. The fig shows three-node connected component, a two-node connected component, and a singletonØA bridge is an edge that connects two otherwise separate groups of nodes in the network. Formally, a bridge is an edge that, if removed, will increase the number of connected components in a graph.Ø Hub - The term is used to refer to the most connected nodes in the network. E.g. Node P would be a hub because it has many connections to other nodes.Bridges and hubs\n",
      "Module 2–Social Network Structure , Measures &Visualization39\n",
      "Node P would be a hubPF is a bridgeExercise\n",
      "Module 2–Social Network Structure , Measures &Visualization40. Answer the following questions about this graph. a. How many nodes are in the network? b. How many edges are in the network? c. Is this graph directed or undirectedd. Create an adjacency list for this graph. e. Create an adjacency matrix for this graph f. What is the length of the shortest path from node A to node F? g. What is the largest clique in this network? How many cliques of that size are there? h. How many connected components are there in this network? i. Draw the 1.5 ego network for node E (without including node E in the graph). How many singletons are in the ego network? j. Are there any hubs in the network? If so, which node(s) and why is it a hub?\n",
      "Visualizing network features\n",
      "Module 2–Social Network Structure , Measures &Visualization41ØLabelsØSize, shape, and colorØLarger graph propertiesVisualizing network features\n",
      "Module 2–Social Network Structure , Measures &Visualization42•LabelsØLabels are some of the more difficult attributes to show in a network, both on nodes and on edges.ØThe example graphs in the previous section all have node labels, but the graphs are small and the labels are short. ØFigure 4.10 shows a net\u0000work with only 92 nodes, which is still relatively small. ØThe nodes represent YouTube videos, and the edges indicate that they were tagged with at least one similar term. ØThe node labels are the YouTube identifiers for each video. Even in this small graph, the image becomes very cluttered with all the labels shown.Visualizing network features-Labels\n",
      "Module 2–Social Network Structure , Measures &Visualization43\n",
      "Visualizing network features\n",
      "Module 2–Social Network Structure , Measures &Visualization44What are the visualizing network features in social media?Visualizing social networks interactively offers faster and more accurate insight. Using techniques like filters, styling, and node grouping and expansion, we can explore network dynamics and connections on a micro, meso and macro scale.•Larger graph propertiesØLarger graph properties can also be encoded in visualizations. ØFor example, clusters are sometimes apparent on their own (like the group to the upper right in Figure 4.11), but visual properties to indicate them will often clarify a visualization further. ØFigure 4.13 shows a new graph that has two main clusters. This graph is a network of YouTube videos, where nodes represent videos and edges connected videos that share a common tag. ØAll of these videos were tagged with the word “cubs”; this example will be discussed more in Chapter 7. Even without the color coding, the two groups would be relatively easy to see. But using a com\u0000munity detection algorithm that groups nodes into clusters, and then color coding by those clusters, makes it even more apparent. ØThis is shown in Figure 4.14Visualizing Network Features\n",
      "Module 2–Social Network Structure , Measures &Visualization45•Size, shape, and colorØCategorical or quantitative attributes are particularly easy to show by adjustments in size, shape, or color.ØThere are many statistics about the nodes in that network: degree, centrality, and so on. These can be encoded using color, size, or both.ØFig shows color encoding of node degree. Darker colors indicate nodes with higher degrees, and not surprisingly, node a is the darkest. For clarity, the node labels have been left off this graph.ØNode color could also be used to indicate other attributes of a node. ØFor example, in a visualization of a person’s email network, node color could indicate if each person is a friend, family member, classmate, co-worker, and so forth.Visualizing network features-Size, shape, and color\n",
      "Module 2–Social Network Structure , Measures &Visualization46\n",
      "Visualizing Network Features\n",
      "Module 2–Social Network Structure , Measures &Visualization47ØEdges can also be treated with color or thickness to indicate their attributes.Ø For example, different types of relationships could each be coded in a different color. ØEdge weights are also commonly visualized. ØThese could indicate the strength of a relationship, the frequency of communication, or other factors. ØFigure 4.13 shows the same example network with weights added to the edges. ØThese are visualized by adjusting the width of the edge. Wider edges indicate stronger relationshipsVisualizing Network Features\n",
      "Module 2–Social Network Structure , Measures &Visualization48\n",
      "Visualizing network features\n",
      "Module 2–Social Network Structure , Measures &Visualization49\n",
      "Fig 4.14 :A network of YouTube videos where color indicates the community or cluster to which each node belongs.Scale issues\n",
      "Module 2–Social Network Structure , Measures &Visualization50ØThe example networks shown so far have been relatively small a few hundred nodes and a few thousand edges. ØVisualization is very useful for analyzing networks of this size or smaller. ØWhen networks become much larger, the quality of the visualization diminishes.ØFigure 4.15 shows a network from a peer-to-peer file sharing network. Nodes represent hosts (computers participating in the network), and edges represent.ØFigure 4.15 shows a network from a peer-to-peer file sharing network. Nodes represent hosts (computers participating in the network), and edges represenScale issues\n",
      "Module 2–Social Network Structure , Measures &Visualization51\n",
      "Scale issues\n",
      "Module 2–Social Network Structure , Measures &Visualization52•Density ØDensity can also be a problem for visualization, even if the number of nodes is small. ØFigure 4.16 shows a network of members of the U.S. Senate. There are only 100 nodes but over 4,100 edges. ØThe edges indicate that the senators have voted the same way in at least one bill. The edges have a weight, indicating the percentage of bills on which the two senators have voted in the same way. ØFigure 4.13 has the edges filtered so that only those with a weight of 40% or more are visible.Ø However, as this network shows, there are no interesting patterns visible with the threshold of 40%; the network is simply toScale issues\n",
      "Module 2–Social Network Structure , Measures &Visualization53•Filtering for visual patterns ØIt is often difficult to see any patterns in very dense networks. One way to compensate for this is to filter the networks when possible.Ø For example, if we take the same network from Figure 4.13 and filter the edges so that they only connect senators who have voted the same way on at least two-thirds of the bills, the pattern changes dramatically. ØThis is shown in Figure 4.17. ØIn this figure, two clear clusters emerge, representing the two major political parties.Ø Furthermore, five senators are pulled out from the major party clusters along the center, indicating that they frequently vote with members of both parties.Scale issues\n",
      "Module 2–Social Network Structure , Measures &Visualization54\n",
      "Scale issues\n",
      "Module 2–Social Network Structure , Measures &Visualization55•Graph simplification ØAn active area of research in network visualization is graph simplification. Because large networks are very common when working with social media, pro\u0000blems of scale are common. ØGraph simplification techniques include grouping clusters of nodes into a single node and representing the edges between clusters as a single edge, representing structural patterns as representative shapes, or showing only part of the graph at a time.Ø As an example, Figure 4.18 shows a tree-structured network visualized with a tool called Space Tree (Plaisant et al., 2002). ØThe nodes and edges to the right of the first level are hidden but are sum\u0000marized with triangles. The size, color, and angle of the triangles indicate the depth, number of nodes, and width of the summarized structureScale issues\n",
      "Module 2–Social Network Structure , Measures &Visualization56\n",
      "Social Media Network Analytics\n",
      "Module 2–Social Network Structure , Measures &Visualization57ØSocial media analytics isthe process of gathering and evaluating data from social media network to gain insights into customer sentiments, intentions and behaviors.ØSocial media analytics is the ability to gather and find meaning in data gathered from social channels to support business decisions — and measure the performance of actions based on those decisions through social media.ØSocial media analytics is broader than metrics such as likes, follows, retweets, previews, clicks, and impressions gathered from individual channels.ØWhy is social media analytics important?\n",
      "Module 2–Social Network Structure , Measures &Visualization58•Social media analytics helps companies address these experiences and use them to:ØSpot trends related to offerings and brandsØUnderstand conversations — what is being said and how it is being receivedØDerive customer sentiment towards products and servicesØGauge response to social media and other communicationsØIdentify high-value features for a product or serviceØUncover what competitors are saying and its effectivenessØMap how third-party partners and channels may affect performance•These insights can be used to not only make tactical adjustments, like addressing an angry tweet, they can help drive strategic decisions. In fact, IBM finds social media analytics is now “being brought into the core discussions about how businesses develop their strategies.”Common network terms\n",
      "Module 2–Social Network Structure , Measures &Visualization59HubsBridgesNodesEdgesCommon Social Media Network Types\n",
      "Module 2–Social Network Structure , Measures &Visualization60•Seeing the popularity and power of Social Media Channels, businesses and marketers look for different types of Social Media networks that they can use to target and convert their audiences.1. Social Networks: Facebook, Twitter, LinkedInØSuch types of Social Media are used to associate with individuals (and brands) on the web. ØThey help your business via branding, social awareness, relationship building, customer service, lead generation, and conversion.Pros•They encourage individuals and businesses to interact online and share data and thoughts for ensuring mutually productive relationships.•In case you are searching for the best ways to optimize current marketing campaigns then you will discover a variety of organic and paid ways to do this on Facebook, Twitter, and LinkedIn sorts of social networks.Common Social Media Network Types\n",
      "Module 2–Social Network Structure , Measures &Visualization61•Discussion Forums: Reddit, Quora, Digg•Such types of Social Media channels are used for finding, sharing and discussing different kinds of information, opinions, and news.•They help businesses by being a top-notch resource for doing immaculate market research. These forums are the oldest ways of running Social Media Marketing campaigns.(i) These discussion forums have a massive number of users and it ensures unprecedented reach for your business. These are the places that provide the answers to different queries of any domain.(ii) In case your business needs deep customer research then these places would the most befitting one for your business.(iii) Along with sharing information and knowing answers, these places are very impactful in advertising as well.Common Social Media Network Types\n",
      "Module 2–Social Network Structure , Measures &Visualization62•Bookmarking & Content Curation Networks: Pinterest, Flipboard.•Opting for such types of Social Media will help you find out, share, discuss and save a variety of latest content and media that are trending as well.Common Social Media Network Types\n",
      "Module 2–Social Network Structure , Measures &Visualization63•Bookmarking & Content Curation Networks: Pinterest, FlipboardØOpting for such types of Social Media will help you find out, share, discuss and save a variety of latest content and media that are trending as well.ØThey are very helpful in channelizing brand awareness for your business, plus, choosing this one to run different types of Social Media Marketing campaigns will help you generate website traffic and customer engagement.Common Social Media Network Types\n",
      "Module 2–Social Network Structure , Measures &Visualization64•Media Sharing Networks: Instagram, Snapchat, YouTube•Media sharing types of Social Media are used to find and share photographs, live video, video and other kinds of media on the web.•They are also going to help you in brand building, lead generation, targeting and so on.Social networks nowadays also offer these features, however, for Media Sharing Networks, sharing of media is their basic role.(i) Starting with image or video on Instagram, YouTube and Snapchat types of media sharing networks would be more beneficial for you.(ii) To decide whether you should use these networks for your business or not, you should consider your resources and target audiences. These channels will help you run well-planned campaigns to generate leads and widen your audience base.Common Social Media Network Types\n",
      "Module 2–Social Network Structure , Measures &Visualization65•Blogging & Publishing Networks: WordPress, Tumblr, Medium•Content marketing is one of the most powerful ways to target, attract, engage and convert a target audience.•WordPress and Blogger are the traditional blogging platforms while Tumblr (micro-blogging service) and Medium (Social Publishing Platform) is the latest blogging and publishing networks.(i) These networks are must for the businesses that want to effectively use Content Marketing, plus, you can share this content on a variety of Social Networks like Facebook, Twitter, LinkedIn, etc.(ii) Content that you use on these networks will also help you create a niche for your business and audiences who are in search of information concerning that niche will for sure visit your blog or site.Egocentric Networks\n",
      "Module 2–Social Network Structure , Measures &Visualization66•Egocentric networks•One of the most important types of subgraphs we will consider is the egocentric network•This is a network we pull out by selecting a node and all of its connec- tions•In Figure 2.7, node D is connected to nodes A, E, B, C, and Q. There are•edges from D to each of these nodes and edges between them.•When considering egocentric networks, we can choose which of those to include. •Consider Figure 2.7.\n",
      "Egocentric Networks\n",
      "Module 2–Social Network Structure , Measures &Visualization67ØFig 2.8 (a)shows Node D and its edges to its neighbors. Because we aregoing one step away from D in the network, this is called a degree-1 egocentricnetwork. It only shows us the nodes D is connected to.ØIf we want to see only D’s neighbors and their connections, it is called a1.5-degree egocentric network, shown in Figure 2.8(b)Ø It is 1.5 instead of 2 because we are not going two full steps away from D in the network. ØWe are     going only one step, but then looking at the connections between those nodes.\n",
      "Egocentric Networks\n",
      "Module 2–Social Network Structure , Measures &Visualization68•Egocentric networks can extend out further. Figure 2.8(d) shows the 2-degree egocentric network. It includes all of D’s neighbors, their connections to one another, and all of their neighbors.•Egocentric networks are used to understand nodes and their role in the net-work. Egocentric networks are an important tool for network analysis throughout this bookEgocentric Networks\n",
      "Module 2–Social Network Structure , Measures &Visualization69Egocentric Networks\n",
      "Module 2–Social Network Structure , Measures &Visualization70Egocentric Networks\n",
      "Module 2–Social Network Structure , Measures &Visualization71Egocentric Networks\n",
      "Module 2–Social Network Structure , Measures &Visualization72References\n",
      "Module 2–Social Network Structure , Measures &Visualization73•https://towardsdatascience.com/social-network-analysis-from-theory-to-applications-with-python-d12e9a34c2c7•https://www.ibm.com/in-en/topics/social-media-analytics•https://www.indeed.com/career-advice/career-development/types-of-social-media•https://www.techtarget.com/searchbusinessanalytics/definition/social-media-analytics.•https://medium.com/@emreeyukseel/a-brief-introduction-to-social-network-analysis-2d13427f5189•https://www.digitalvidya.com/blog/types-of-social-media/•https://www.digitalvidya.com/blog/types-of-social-media/Thank You\n"
     ]
    }
   ],
   "source": [
    "# A very basic function to extract text from pdf\n",
    "\n",
    "def extract_text(pdf_path):\n",
    "    extracted_text = \"\"\n",
    "    with open(pdf_path, 'rb') as file:\n",
    "        pdf_reader = PyPDF2.PdfReader(file)\n",
    "        num_pages = len(pdf_reader.pages)\n",
    "        for page_number in range(num_pages):\n",
    "            page = pdf_reader.pages[page_number]\n",
    "            extracted_text += page.extract_text()\n",
    "    print(extracted_text)\n",
    "    return extracted_text\n",
    "\n",
    "pdf_path = \"/Users/mihiresh/Mihiresh/Hackathon/gdsc2/api_testing/assets/sna_b.pdf\"  # Don't forget to give your address here \n",
    "text = extract_text(pdf_path)"
   ]
  },
  {
   "cell_type": "code",
   "execution_count": 332,
   "metadata": {},
   "outputs": [],
   "source": [
    "# text = text.replace(\"Module 1– Introduction to Social Network\",\" \")\n",
    "# text"
   ]
  },
  {
   "cell_type": "code",
   "execution_count": 333,
   "metadata": {},
   "outputs": [],
   "source": [
    "# The most important step of chunking your textual data. Here you could use complete creativity while fine-tuning\n",
    "# My suggestion try performing content-based chunking\n",
    "\n",
    "\n",
    "from langchain.text_splitter import RecursiveCharacterTextSplitter\n",
    "\n",
    "text_splitter = RecursiveCharacterTextSplitter(\n",
    "    chunk_size = 1000,    #for next time let's try to keep the chunk size little bigger\n",
    "    chunk_overlap = 100,\n",
    "    length_function = len,\n",
    "    add_start_index = True\n",
    ")"
   ]
  },
  {
   "cell_type": "code",
   "execution_count": 334,
   "metadata": {},
   "outputs": [
    {
     "name": "stdout",
     "output_type": "stream",
     "text": [
      "through B.Ø Thus, the fraction for all of these is zero. Now we can calculate the betweenness for B:\n"
     ]
    }
   ],
   "source": [
    "texts = text_splitter.create_documents([text])\n",
    "print(texts[14].page_content)"
   ]
  },
  {
   "cell_type": "code",
   "execution_count": 335,
   "metadata": {},
   "outputs": [
    {
     "name": "stdout",
     "output_type": "stream",
     "text": [
      "['SOCIAL NETWORK ANALYSISModule 2 : Social Network Structure , Measures & Visualization Faculty Name :Mrs Snehal PatilLecture 1 Basics of Social network StructureØBasics of Social network StructureØNetwork VisualizationØNetwork FeaturesØScale IssuesØSocial Media Network AnalyticsØCommon  Network termsØCommon Social Media Network typesModule 2 Contents', 'Module 2–Social Network Structure , Measures &Visualization3ØText Books:ØSeven Layers of Social Media Analytics_ Mining Business Insights from Social Media Text, Actions, Networks, Hyperlinks, Apps, Search Engine, and Location Data, Gohar F. Khan,(ISBN-10: 1507823207). ØAnalyzing the Social Web 1st Edition by Jennifer Golbeck ØMining the Social Web_ Analyzing Data from Facebook, Twitter, LinkedIn, and Other Social Media Sites, Matthew A Russell, O’Reilly ØReference Books:Ø Social Media Analytics [2015], Techniques and Insights for Extracting Business Value Out of Social Media, Matthew Ganis, AvinashKohirkar, IBM Press 74 ØSocial Media Analytics Strategy_ Using Data to Optimize Business Performance, Alex Gonçalves, APress Business Team ØSocial Media Data Mining and Analytics, Szabo, G., G. Polatkan, O. Boykin & A. Chalkiopoulus (2019), Wiley, ISBN 978-1-118-82485-6 Reference Book\\nModule 2–Social Network Structure , Measures &Visualization4Basics of Social network Structure']\n"
     ]
    }
   ],
   "source": [
    "# Combinig chunks of your textual data to form a List. \n",
    "\n",
    "docs = []\n",
    "\n",
    "for chunk in texts:\n",
    "    docs.append(chunk.page_content)\n",
    "\n",
    "print(docs[:2])"
   ]
  },
  {
   "cell_type": "code",
   "execution_count": 336,
   "metadata": {},
   "outputs": [],
   "source": [
    "class GeminiEmbeddingFunction(EmbeddingFunction):\n",
    "    def __call__(self, input: Documents) -> Embeddings:\n",
    "        model = 'models/embedding-001'\n",
    "        title = 'Social Network Analysis'\n",
    "        return genai.embed_content(\n",
    "            model=model,\n",
    "            content=input,\n",
    "            task_type=\"retrieval_document\",\n",
    "            title=title)[\"embedding\"]\n",
    "        "
   ]
  },
  {
   "cell_type": "code",
   "execution_count": 337,
   "metadata": {},
   "outputs": [],
   "source": [
    "# Function to define and create you Vector Databse of chromadb in Database folders\n",
    "\n",
    "def create_chroma_db(docs,name):\n",
    "    chroma_client = chromadb.PersistentClient(path=\"/Users/mihiresh/Mihiresh/Hackathon/gdsc2/api_testing/database\") #Don't forget to change path\n",
    "    db = chroma_client.get_or_create_collection(\n",
    "        name=name, embedding_function=GeminiEmbeddingFunction())\n",
    "    \n",
    "    initial_size = db.count()\n",
    "    for i, d in tqdm(enumerate(docs), total=len(docs), desc=\"Creating Chroma DB\"):\n",
    "        db.add(\n",
    "            documents=d,\n",
    "            ids=str(i + initial_size)\n",
    "        )\n",
    "        time.sleep(0.5)\n",
    "    return db\n",
    "\n",
    "\n",
    "def get_chroma_db(name):\n",
    "    chroma_client = chromadb.PersistentClient(path=\"/Users/mihiresh/Mihiresh/Hackathon/gdsc2/api_testing/database\") # Here as well \n",
    "    return chroma_client.get_collection(name=name, function=EmbeddingFunction())"
   ]
  },
  {
   "cell_type": "code",
   "execution_count": 338,
   "metadata": {},
   "outputs": [
    {
     "name": "stderr",
     "output_type": "stream",
     "text": [
      "Creating Chroma DB: 100%|██████████| 52/52 [00:54<00:00,  1.04s/it]\n"
     ]
    },
    {
     "data": {
      "text/plain": [
       "1828"
      ]
     },
     "execution_count": 338,
     "metadata": {},
     "output_type": "execute_result"
    }
   ],
   "source": [
    "# Creating your Vector Database. [Don't unneccessarily run this code]\n",
    "\n",
    "db = create_chroma_db(docs, \"sme_db\")\n",
    "db.count()"
   ]
  },
  {
   "cell_type": "code",
   "execution_count": 339,
   "metadata": {},
   "outputs": [
    {
     "data": {
      "text/html": [
       "<div>\n",
       "<style scoped>\n",
       "    .dataframe tbody tr th:only-of-type {\n",
       "        vertical-align: middle;\n",
       "    }\n",
       "\n",
       "    .dataframe tbody tr th {\n",
       "        vertical-align: top;\n",
       "    }\n",
       "\n",
       "    .dataframe thead th {\n",
       "        text-align: right;\n",
       "    }\n",
       "</style>\n",
       "<table border=\"1\" class=\"dataframe\">\n",
       "  <thead>\n",
       "    <tr style=\"text-align: right;\">\n",
       "      <th></th>\n",
       "      <th>ids</th>\n",
       "      <th>embeddings</th>\n",
       "      <th>metadatas</th>\n",
       "      <th>documents</th>\n",
       "      <th>uris</th>\n",
       "      <th>data</th>\n",
       "    </tr>\n",
       "  </thead>\n",
       "  <tbody>\n",
       "    <tr>\n",
       "      <th>0</th>\n",
       "      <td>0</td>\n",
       "      <td>[0.015172463841736317, -0.010413325391709805, ...</td>\n",
       "      <td>None</td>\n",
       "      <td>Python Tutorial\\nRelease 3.7.0\\nGuido van Ross...</td>\n",
       "      <td>None</td>\n",
       "      <td>None</td>\n",
       "    </tr>\n",
       "    <tr>\n",
       "      <th>1</th>\n",
       "      <td>1</td>\n",
       "      <td>[0.03553083539009094, 0.01233371626585722, -0....</td>\n",
       "      <td>None</td>\n",
       "      <td>4.3 The range() Function . . . . . . . . . . ....</td>\n",
       "      <td>None</td>\n",
       "      <td>None</td>\n",
       "    </tr>\n",
       "    <tr>\n",
       "      <th>2</th>\n",
       "      <td>10</td>\n",
       "      <td>[0.019464796409010887, -0.03204401955008507, -...</td>\n",
       "      <td>None</td>\n",
       "      <td>and tools, and additional documentation.\\nThe ...</td>\n",
       "      <td>None</td>\n",
       "      <td>None</td>\n",
       "    </tr>\n",
       "    <tr>\n",
       "      <th>3</th>\n",
       "      <td>100</td>\n",
       "      <td>[-0.0029656183905899525, 0.003489450318738818,...</td>\n",
       "      <td>None</td>\n",
       "      <td>Yuck!\\nC&gt;\\nThese two variables are only deﬁned...</td>\n",
       "      <td>None</td>\n",
       "      <td>None</td>\n",
       "    </tr>\n",
       "    <tr>\n",
       "      <th>4</th>\n",
       "      <td>1000</td>\n",
       "      <td>[-0.03242751583456993, -0.009994188323616982, ...</td>\n",
       "      <td>None</td>\n",
       "      <td>compare unequal (except with themselves), and ...</td>\n",
       "      <td>None</td>\n",
       "      <td>None</td>\n",
       "    </tr>\n",
       "    <tr>\n",
       "      <th>...</th>\n",
       "      <td>...</td>\n",
       "      <td>...</td>\n",
       "      <td>...</td>\n",
       "      <td>...</td>\n",
       "      <td>...</td>\n",
       "      <td>...</td>\n",
       "    </tr>\n",
       "    <tr>\n",
       "      <th>1568</th>\n",
       "      <td>765</td>\n",
       "      <td>[-0.025212131440639496, 0.012208681553602219, ...</td>\n",
       "      <td>None</td>\n",
       "      <td>example, Pascal or C); parentheses ( ()) can b...</td>\n",
       "      <td>None</td>\n",
       "      <td>None</td>\n",
       "    </tr>\n",
       "    <tr>\n",
       "      <th>1569</th>\n",
       "      <td>766</td>\n",
       "      <td>[-0.003493468277156353, -0.01856415718793869, ...</td>\n",
       "      <td>None</td>\n",
       "      <td>&gt;&gt;&gt;5**2# 5 squared\\n25\\n&gt;&gt;&gt;2**7# 2 to the powe...</td>\n",
       "      <td>None</td>\n",
       "      <td>None</td>\n",
       "    </tr>\n",
       "    <tr>\n",
       "      <th>1570</th>\n",
       "      <td>767</td>\n",
       "      <td>[-0.03434646874666214, -0.016499843448400497, ...</td>\n",
       "      <td>None</td>\n",
       "      <td>&gt;&gt;&gt;tax=12.5/100\\n&gt;&gt;&gt;price=100.50\\n&gt;&gt;&gt;price*tax...</td>\n",
       "      <td>None</td>\n",
       "      <td>None</td>\n",
       "    </tr>\n",
       "    <tr>\n",
       "      <th>1571</th>\n",
       "      <td>768</td>\n",
       "      <td>[-0.015795739367604256, -0.03558232635259628, ...</td>\n",
       "      <td>None</td>\n",
       "      <td>quotes:\\n&gt;&gt;&gt;'spam eggs '# single quotes\\n'spam...</td>\n",
       "      <td>None</td>\n",
       "      <td>None</td>\n",
       "    </tr>\n",
       "    <tr>\n",
       "      <th>1572</th>\n",
       "      <td>769</td>\n",
       "      <td>[-0.00781920738518238, -0.024114668369293213, ...</td>\n",
       "      <td>None</td>\n",
       "      <td>\"Isn't,\" they said.\\n&gt;&gt;&gt;s='First line. \\nSecon...</td>\n",
       "      <td>None</td>\n",
       "      <td>None</td>\n",
       "    </tr>\n",
       "  </tbody>\n",
       "</table>\n",
       "<p>1573 rows × 6 columns</p>\n",
       "</div>"
      ],
      "text/plain": [
       "       ids                                         embeddings metadatas  \\\n",
       "0        0  [0.015172463841736317, -0.010413325391709805, ...      None   \n",
       "1        1  [0.03553083539009094, 0.01233371626585722, -0....      None   \n",
       "2       10  [0.019464796409010887, -0.03204401955008507, -...      None   \n",
       "3      100  [-0.0029656183905899525, 0.003489450318738818,...      None   \n",
       "4     1000  [-0.03242751583456993, -0.009994188323616982, ...      None   \n",
       "...    ...                                                ...       ...   \n",
       "1568   765  [-0.025212131440639496, 0.012208681553602219, ...      None   \n",
       "1569   766  [-0.003493468277156353, -0.01856415718793869, ...      None   \n",
       "1570   767  [-0.03434646874666214, -0.016499843448400497, ...      None   \n",
       "1571   768  [-0.015795739367604256, -0.03558232635259628, ...      None   \n",
       "1572   769  [-0.00781920738518238, -0.024114668369293213, ...      None   \n",
       "\n",
       "                                              documents  uris  data  \n",
       "0     Python Tutorial\\nRelease 3.7.0\\nGuido van Ross...  None  None  \n",
       "1     4.3 The range() Function . . . . . . . . . . ....  None  None  \n",
       "2     and tools, and additional documentation.\\nThe ...  None  None  \n",
       "3     Yuck!\\nC>\\nThese two variables are only deﬁned...  None  None  \n",
       "4     compare unequal (except with themselves), and ...  None  None  \n",
       "...                                                 ...   ...   ...  \n",
       "1568  example, Pascal or C); parentheses ( ()) can b...  None  None  \n",
       "1569  >>>5**2# 5 squared\\n25\\n>>>2**7# 2 to the powe...  None  None  \n",
       "1570  >>>tax=12.5/100\\n>>>price=100.50\\n>>>price*tax...  None  None  \n",
       "1571  quotes:\\n>>>'spam eggs '# single quotes\\n'spam...  None  None  \n",
       "1572  \"Isn't,\" they said.\\n>>>s='First line. \\nSecon...  None  None  \n",
       "\n",
       "[1573 rows x 6 columns]"
      ]
     },
     "execution_count": 339,
     "metadata": {},
     "output_type": "execute_result"
    }
   ],
   "source": [
    "pd.DataFrame(db.peek(1573))"
   ]
  },
  {
   "cell_type": "code",
   "execution_count": 340,
   "metadata": {},
   "outputs": [
    {
     "data": {
      "text/plain": [
       "768"
      ]
     },
     "execution_count": 340,
     "metadata": {},
     "output_type": "execute_result"
    }
   ],
   "source": [
    "len(pd.DataFrame(db.peek(10)).iloc[0][\"embeddings\"])"
   ]
  },
  {
   "cell_type": "code",
   "execution_count": 389,
   "metadata": {},
   "outputs": [],
   "source": [
    "# Function to retrieve fact from the vector database\n",
    "\n",
    "def get_relevant_passages(query, db, n_results):\n",
    "    passages = db.query(query_texts=[query], n_results=n_results)['documents'][0]\n",
    "    return passages"
   ]
  },
  {
   "cell_type": "code",
   "execution_count": 390,
   "metadata": {},
   "outputs": [],
   "source": [
    "model = genai.GenerativeModel('gemini-pro')"
   ]
  },
  {
   "cell_type": "code",
   "execution_count": 391,
   "metadata": {},
   "outputs": [],
   "source": [
    "def make_prompt(ques, knowledge):\n",
    "    text = knowledge.replace(\"'\",\"\").replace('\"','') #even i dont know why i did this\n",
    "\n",
    "\n",
    "    # Choose from the given prompts which suits you the BEST\n",
    "    # If you want you may create your own prompt by referring to the following options\n",
    "    # --------------------------------------------------------------------------------------------------------------------------------------------------------------------------------------------------------------------------------------------------------------------------------------\n",
    "\n",
    "\n",
    "    # prompt = f\"\"\"question: {ques}.\\n\n",
    "    # information base or knowledge base: {text}\\n\n",
    "    # Answer the question in 1250-2500 words strictly based on the information base or knowledge base given, \\n\n",
    "    # If the question is asking for a code then also explain the algorithm, if the question is asking for career guidance then provide complete career guidance and links for various courses, if difference is asked differentiate with minimum 7 points in tabular format and one example\n",
    "    # if the information is not sufficient then give output as \"Info not good to answer\"\n",
    "    # \"\"\"\n",
    "\n",
    "    # --------------------------------------------------------------------------------------------------------------------------------------------------------------------------------------------------------------------------------------------------------------------------------------\n",
    "\n",
    "    # prompt = f\"\"\"question: {ques}.\\n\n",
    "    # information base or knowledge base: {text}\\n\n",
    "    # Answer the question strictly based from {text} by filtering the required information from {text}\\n\n",
    "    # if the information is not sufficient then use keywords from {text} related to {ques} and answer the queestion and at the end of answer mention \"[from other sources as well]\" BUT try to give answers from only and only{text}\\n\n",
    "    # If the question is asking for a code then also explain the algorithm,\\n \n",
    "    # if the question is asking for career guidance then provide complete career guidance and links for various courses, \\n\n",
    "    # if difference is asked differentiate with minimum 7 points in tabular format and one example\n",
    "    # MOST IMPORTANTLY: answer the questions from {text} in such a way to write in exam\\n\n",
    "    # NOTE: try to answwer {ques} from {text} as much as possible\n",
    "    # \"\"\"\n",
    "\n",
    "    # --------------------------------------------------------------------------------------------------------------------------------------------------------------------------------------------------------------------------------------------------------------------------------------\n",
    "\n",
    "    prompt = f\"\"\"question: {ques}.\\n\n",
    "    information base or knowledge base: {text}\\n\n",
    "    check whether {ques} is a question or an instruction, if its an instruction give an affirmative response \\n\n",
    "    ELSE\n",
    "    Answer the question STRICTLY based from {text} by filtering the required information from {text}\\n\n",
    "    if the information is not sufficient then use keywords from {text} related to {ques} and answer the queestion and at the end of answer mention \"[from other sources as well]\" BUT try to give answers from only and only{text}\\n\n",
    "    If the question is asking for a code then also explain the algorithm,\\n \n",
    "    if the question is asking for career guidance then provide complete career guidance and links for various courses, \\n\n",
    "    if difference is asked differentiate with minimum 7 points in tabular format and one example\n",
    "    MOST IMPORTANTLY: answer the questions from {text} in such a way to write in exam\\n\n",
    "    NOTE: try to answwer {ques} from {text} as much as possible\n",
    "    \"\"\"\n",
    "\n",
    "    gen_config = GenerationConfig(temperature=0.2)\n",
    "    answer = model.generate_content(prompt)\n",
    "    return answer.text"
   ]
  },
  {
   "cell_type": "code",
   "execution_count": 392,
   "metadata": {},
   "outputs": [],
   "source": [
    "ques = \" Define Social Network Analysis \" # Enter any question you want\n",
    "passages = get_relevant_passages(ques, db, n_results=25) #i have kept the n_results more because i wanted more info to be included in my answwer\n",
    "txt = \"\"\n",
    "for passage in passages:\n",
    "    txt += passage"
   ]
  },
  {
   "cell_type": "code",
   "execution_count": 393,
   "metadata": {},
   "outputs": [],
   "source": [
    "def list_to_string(passages):\n",
    "    content = \"\"\n",
    "    for passage in passages:\n",
    "        content += passage + \"\\n\"\n",
    "    return content\n",
    "\n"
   ]
  },
  {
   "cell_type": "code",
   "execution_count": 394,
   "metadata": {},
   "outputs": [
    {
     "data": {
      "text/plain": [
       "\"at a workgroup level and organization level, focusing on the interplay between the two structures. Three levels of social network analysis  76  13•A social network is defined as a network of interactions or relationships, where the nodes consist of actors, and the edges consist of the relationships or interactions between these actors.•The advantage of social network analysis is that, unlike many other methods, it focuses on interaction (rather than on individual behavior).•Network analysis allows us to examine how the configuration of networks influences how individuals and groups, organizations, or systems function. Module 1: Social network: An Overview-Introduction  6Module Contents  71. Social network: An Overview Introduction, History of social network, need to study social network, Applications of social network, Three levels of social network analysis, Graph visualization Tool.Ø SNA has its origins both in science and in the broader fields of network analaysis and graph theory.ØSocial network analysis is a method by which one can analyze the connections across individuals or groups or institutions.  That is, it allows us to examine how political actors or institutions are interrelated.Module Contents generalization beyond the restrictive dyadic independence assumption of micro-networks, allowing models to be built from theoretical structural foundations of social behavior.Three levels of social network analysis Module 1: Social network: An Overview-Introduction  14•It can be applied across disciplines—there are social networks, political networks, electrical networks, transportation networks, and so on.•The social networking has been studied often in the field of sociology in terms of generic interactions between humans. Such interactions may be in any conventional or non-conventional form, whether they be face-to-face interactions, telecommunication interactions, email interactions or postal mail interactions.•The social analysis networks has also been modeled in the field of cognitive science, where the cognitive aspects of such interactions are utilized for analytical purposes.•Much early research in network analysis is found in educational psychology, and studies of child development.  Network analysis also developed in fields such as sociology and anthropology. Examples of social networks   , Measures &Visualization4Basics of Social network Structure   , Measures &Visualization5ØNetwork Analysis is a method for finding patterns under the structure of the network. ØIt relies on graph theory. ØThe network consists of nodes that represent individuals, people, or things, and edges represent the connection or relationship between nodes. ØSocial Network Analysis (SNA) is interested in relationships among social entities such as individuals or organizations. https://towardsdatascience.com/social-network-analysis-from-theory-to-applications-with-python-d12e9a34c2c7Basics of Social network Structure networks where applications such as WhatsApp,Instagramor Snapchat begin to overshadow the giants ofsocial networks.Need to study Social Network directly and continuously with their fans. The social network soon understood that it had great opportunities in this regard and encouraged these practices, offering artists space where they could promote themselves.History of Social Network Basics of Social network Structure   , Measures &Visualization9Some more complex directed and undirected graphs might look like the following: Basics of Social network Structure to one another, and all of their neighbors.ØEgocentric networks are used to understand nodes and their role in the net\\x00work. Egocentric networks are an important tool for network analysis throughoutEgocentric networks  4ØIntroduction ØHistory of Social networkØNeed to study Social networkØApplications of social networkØThree levels of social network analysisØGraph visualization Tool.Module 1 Contents   , Measures &Visualization56 Social Media Network Analytics   , Measures &Visualization57ØSocial media analytics isthe process of gathering and evaluating data from social media network to gain insights into customer sentiments, intentions and behaviors.ØSocial media analytics is the ability to gather and find meaning in data gathered from social channels to support business decisions — and measure the performance of actions based on those decisions through social media.ØSocial media analytics is broader than metrics such as likes, follows, retweets, previews, clicks, and impressions gathered from individual channels.ØWhy is social media analytics important?  77Thank You  64Graph visualization Tool.  65   , Measures &Visualization72References   , Measures &Visualization73•https://towardsdatascience.com/social-network-analysis-from-theory-to-applications-with-python-d12e9a34c2c7•https://www.ibm.com/in-en/topics/social-media-analytics•https://www.indeed.com/career-advice/career-development/types-of-social-media•https://www.techtarget.com/searchbusinessanalytics/definition/social-media-analytics.•https://medium.com/@emreeyukseel/a-brief-introduction-to-social-network-analysis-2d13427f5189•https://www.digitalvidya.com/blog/types-of-social-media/•https://www.digitalvidya.com/blog/types-of-social-media/Thank You each other almost instantaneously. ØThis quick communication may help build relationships and new professional connections and helps people connect with each other in an entirely new way than much of humanity's history.Ø Instant communication can result in fewer errors, stronger relationships and even more connections to businesses and professionals inside and outside of your geographical area.Need to study Social Network boundaries that might otherwise keep certain people from meeting or working together. This can help create jobs and unique opportunities.Need to study Social Network  60Introduction  61•Why do people use social networks?ØSocial networks help people stay connected with their friends and family and find what everyone is doing. Social networks can also be used to find interesting things on the Internet, as your friends and family likely share many of your interests..Introduction Three Levels of Social Network  48Graph visualization Tool  49•What is network graph visualization?ØNetwork visualization, graph visualization or link analysis isthe process of visually presenting networks of connected entities as links and nodes. Nodes represent data points and links represent the connections between them.Graph visualization Tool  50Graph visualization Tool  51Graph visualization Tool  52Module 2: Contents •Complex networks: ØMost larger social networks display features of social complexity, which involves substantial non-trivial features of network topology, with patterns of complex connections between elements that are neither purely regular nor purely random, as do biological and technological networks.ØSuch complex networkfeatures include a heavy tail in the degree distribution, a high clustering coefficient, assortativityor disassortativity among vertices, community structure and hierarchical structure. ØIn the case of agency-directednetworks these features also include reciprocity, triad significance profileand other features. ØIn contrast, many of the mathematical models of networks that have been studied in the past, such as lattices and random graphs, do not show these features.Levels of Social Network by the interactions of individuals, yet constitute a reality that is independent of any individual actor.Module Contents SOCIAL NETWORK ANALYSISModule 1 : Social network: An OverviewFaculty Name :Mrs Snehal PatilLecture 1 Social network: An OverviewCourse Objectives: SOCIAL NETWORK ANALYSISModule 2 : Social Network Structure , Measures & Visualization Faculty Name :Mrs Snehal PatilLecture 1 Basics of Social network StructureØBasics of Social network StructureØNetwork VisualizationØNetwork FeaturesØScale IssuesØSocial Media Network AnalyticsØCommon  Network termsØCommon Social Media Network typesModule 2 Contents  31•Why is social networking important?ØSocial networking continues to play an important role in business and individual careers. ØUnderstanding what social networks are and why they're important can help both businesses and individuals use these platforms to expand their professional networksHere are some reasons social networking remains important:•It connects people and businessesØOne of the most important aspects of social networks is that they help connect people and businesses. With social networks, a business in New York can connect with clients and customers anywhere in the world, expanding their customer base and potential business allies. ØUsing social networks can also allow professionals to find jobs with countries in other areas and connect with similar professionals in their industry. ØSocial networks help eliminate cultural and geographical boundaries that might otherwise keep certain people from meeting or working together. This \""
      ]
     },
     "execution_count": 394,
     "metadata": {},
     "output_type": "execute_result"
    }
   ],
   "source": [
    "cont = list_to_string(passages)\n",
    "cont = cont.replace('Module 2–Social Network Structure',' ') #this is subjective for this data\n",
    "cont = cont.replace('Module 1– Introduction to Social Network',' ') #this is subjective for this data\n",
    "cont = cont.replace('\\n',' ')  #this is subjective for this data\n",
    "cont"
   ]
  },
  {
   "cell_type": "code",
   "execution_count": 395,
   "metadata": {},
   "outputs": [
    {
     "data": {
      "text/markdown": [
       "Social Network Analysis (SNA) is a method for studying the structure and dynamics of social networks. It involves the collection and analysis of data on the relationships between actors in a social network, such as individuals, organizations, or groups. SNA can be used to understand how social networks operate, how they change over time, and how they influence the behavior of actors within the network.\n",
       "\n",
       "SNA can be used to study a variety of social phenomena, including:\n",
       "\n",
       "* The spread of information and influence\n",
       "* The formation of social groups\n",
       "* The development of social norms\n",
       "* The emergence of social movements\n",
       "* The impact of social networks on individual behavior\n",
       "\n",
       "SNA can be used in a variety of settings, including:\n",
       "\n",
       "* Business\n",
       "* Government\n",
       "* Education\n",
       "* Healthcare\n",
       "* Non-profit organizations\n",
       "\n",
       "SNA can be a valuable tool for understanding social behavior and for developing interventions to address social problems.\n",
       "\n",
       "**Three Levels of Social Network Analysis**\n",
       "\n",
       "There are three levels of social network analysis:\n",
       "\n",
       "* **Micro-level analysis** focuses on the relationships between individual actors within a social network. This level of analysis can be used to understand how individual actors interact with each other and how these interactions influence their behavior.\n",
       "* **Meso-level analysis** focuses on the relationships between groups of actors within a social network. This level of analysis can be used to understand how groups form, how they interact with each other, and how they influence the behavior of their members.\n",
       "* **Macro-level analysis** focuses on the overall structure of a social network. This level of analysis can be used to understand how the network is organized, how it changes over time, and how it influences the behavior of actors within the network.\n",
       "\n",
       "**Workgroup Level and Organization Level**\n",
       "\n",
       "SNA can be used to study social networks at the workgroup level and the organization level.\n",
       "\n",
       "* **Workgroup-level SNA** can be used to understand how workgroups form, how they interact with each other, and how they influence the behavior of their members. This information can be used to improve team performance and collaboration.\n",
       "* **Organization-level SNA** can be used to understand how the organization is structured, how it changes over time, and how it influences the behavior of employees. This information can be used to improve organizational efficiency and effectiveness.\n",
       "\n",
       "**Interplay Between Workgroup and Organization Levels**\n",
       "\n",
       "The interplay between the workgroup level and the organization level is important for understanding how social networks operate within organizations. Workgroups are often embedded within larger organizations, and the relationships between workgroups can have a significant impact on the overall functioning of the organization. For example, if there is a lack of communication and collaboration between workgroups, this can lead to problems such as duplication of effort, conflict, and missed deadlines.\n",
       "\n",
       "SNA can be used to identify and address problems in the interplay between the workgroup level and the organization level. By understanding the relationships between workgroups and the organization as a whole, organizations can take steps to improve communication, collaboration, and coordination. This can lead to improved organizational performance and effectiveness.\n",
       "\n",
       "[from other sources as well]"
      ],
      "text/plain": [
       "<IPython.core.display.Markdown object>"
      ]
     },
     "execution_count": 395,
     "metadata": {},
     "output_type": "execute_result"
    }
   ],
   "source": [
    "answer = make_prompt(ques, cont)\n",
    "Markdown(answer)"
   ]
  },
  {
   "cell_type": "markdown",
   "metadata": {},
   "source": [
    "#### /Users/mihiresh/Mihiresh/Hackathon/gdsc2/api_testing/rag.ipynb"
   ]
  }
 ],
 "metadata": {
  "kernelspec": {
   "display_name": ".venv",
   "language": "python",
   "name": "python3"
  },
  "language_info": {
   "codemirror_mode": {
    "name": "ipython",
    "version": 3
   },
   "file_extension": ".py",
   "mimetype": "text/x-python",
   "name": "python",
   "nbconvert_exporter": "python",
   "pygments_lexer": "ipython3",
   "version": "3.11.4"
  }
 },
 "nbformat": 4,
 "nbformat_minor": 2
}
